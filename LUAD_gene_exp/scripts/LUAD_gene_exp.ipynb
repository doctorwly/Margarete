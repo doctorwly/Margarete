{
 "cells": [
  {
   "cell_type": "code",
   "execution_count": 1,
   "metadata": {},
   "outputs": [
    {
     "name": "stderr",
     "output_type": "stream",
     "text": [
      "Loading required package: ggplot2\n",
      "\n",
      "Loading required package: cowplot\n",
      "\n",
      "\n",
      "********************************************************\n",
      "\n",
      "Note: As of version 1.0.0, cowplot does not change the\n",
      "\n",
      "  default ggplot2 theme anymore. To recover the previous\n",
      "\n",
      "  behavior, execute:\n",
      "  theme_set(theme_cowplot())\n",
      "\n",
      "********************************************************\n",
      "\n",
      "\n",
      "Loading required package: Matrix\n",
      "\n",
      "── \u001b[1mAttaching packages\u001b[22m ─────────────────────────────────────── tidyverse 1.3.0 ──\n",
      "\n",
      "\u001b[32m✔\u001b[39m \u001b[34mtibble \u001b[39m 3.0.1     \u001b[32m✔\u001b[39m \u001b[34mdplyr  \u001b[39m 0.8.5\n",
      "\u001b[32m✔\u001b[39m \u001b[34mtidyr  \u001b[39m 1.0.2     \u001b[32m✔\u001b[39m \u001b[34mstringr\u001b[39m 1.4.0\n",
      "\u001b[32m✔\u001b[39m \u001b[34mreadr  \u001b[39m 1.3.1     \u001b[32m✔\u001b[39m \u001b[34mforcats\u001b[39m 0.5.0\n",
      "\u001b[32m✔\u001b[39m \u001b[34mpurrr  \u001b[39m 0.3.4     \n",
      "\n",
      "── \u001b[1mConflicts\u001b[22m ────────────────────────────────────────── tidyverse_conflicts() ──\n",
      "\u001b[31m✖\u001b[39m \u001b[34mtidyr\u001b[39m::\u001b[32mexpand()\u001b[39m masks \u001b[34mMatrix\u001b[39m::expand()\n",
      "\u001b[31m✖\u001b[39m \u001b[34mdplyr\u001b[39m::\u001b[32mfilter()\u001b[39m masks \u001b[34mstats\u001b[39m::filter()\n",
      "\u001b[31m✖\u001b[39m \u001b[34mdplyr\u001b[39m::\u001b[32mlag()\u001b[39m    masks \u001b[34mstats\u001b[39m::lag()\n",
      "\u001b[31m✖\u001b[39m \u001b[34mtidyr\u001b[39m::\u001b[32mpack()\u001b[39m   masks \u001b[34mMatrix\u001b[39m::pack()\n",
      "\u001b[31m✖\u001b[39m \u001b[34mtidyr\u001b[39m::\u001b[32munpack()\u001b[39m masks \u001b[34mMatrix\u001b[39m::unpack()\n",
      "\n"
     ]
    }
   ],
   "source": [
    "library(Seurat)\n",
    "library(tidyverse)"
   ]
  },
  {
   "cell_type": "code",
   "execution_count": 47,
   "metadata": {},
   "outputs": [],
   "source": [
    "rds = readRDS('/SGRNJ01/Aftersales/P2018016_Lung/paper_jiace/rds/new_ident_rm.rds')"
   ]
  },
  {
   "cell_type": "code",
   "execution_count": 48,
   "metadata": {},
   "outputs": [
    {
     "name": "stderr",
     "output_type": "stream",
     "text": [
      "Parsed with column specification:\n",
      "cols(\n",
      "  name = \u001b[31mcol_character()\u001b[39m,\n",
      "  orig = \u001b[31mcol_character()\u001b[39m,\n",
      "  new = \u001b[31mcol_character()\u001b[39m,\n",
      "  ID = \u001b[32mcol_double()\u001b[39m,\n",
      "  Gender = \u001b[31mcol_character()\u001b[39m,\n",
      "  Age = \u001b[32mcol_double()\u001b[39m,\n",
      "  Smoker = \u001b[31mcol_character()\u001b[39m,\n",
      "  Subtype = \u001b[31mcol_character()\u001b[39m,\n",
      "  T = \u001b[32mcol_double()\u001b[39m,\n",
      "  N = \u001b[32mcol_double()\u001b[39m,\n",
      "  M = \u001b[32mcol_double()\u001b[39m,\n",
      "  Stage = \u001b[31mcol_character()\u001b[39m,\n",
      "  Mutation = \u001b[31mcol_character()\u001b[39m,\n",
      "  mutation = \u001b[31mcol_character()\u001b[39m,\n",
      "  type = \u001b[31mcol_character()\u001b[39m\n",
      ")\n",
      "\n"
     ]
    }
   ],
   "source": [
    "info = read_tsv('/SGRNJ01/Aftersales/P2018016_Lung/paper_jiace/info/tidy_info.tsv')"
   ]
  },
  {
   "cell_type": "code",
   "execution_count": 50,
   "metadata": {},
   "outputs": [
    {
     "data": {
      "text/html": [
       "<table>\n",
       "<caption>A tibble: 6 × 15</caption>\n",
       "<thead>\n",
       "\t<tr><th scope=col>name</th><th scope=col>orig</th><th scope=col>new</th><th scope=col>ID</th><th scope=col>Gender</th><th scope=col>Age</th><th scope=col>Smoker</th><th scope=col>Subtype</th><th scope=col>T</th><th scope=col>N</th><th scope=col>M</th><th scope=col>Stage</th><th scope=col>Mutation</th><th scope=col>mutation</th><th scope=col>type</th></tr>\n",
       "\t<tr><th scope=col>&lt;chr&gt;</th><th scope=col>&lt;chr&gt;</th><th scope=col>&lt;chr&gt;</th><th scope=col>&lt;dbl&gt;</th><th scope=col>&lt;chr&gt;</th><th scope=col>&lt;dbl&gt;</th><th scope=col>&lt;chr&gt;</th><th scope=col>&lt;chr&gt;</th><th scope=col>&lt;dbl&gt;</th><th scope=col>&lt;dbl&gt;</th><th scope=col>&lt;dbl&gt;</th><th scope=col>&lt;chr&gt;</th><th scope=col>&lt;chr&gt;</th><th scope=col>&lt;chr&gt;</th><th scope=col>&lt;chr&gt;</th></tr>\n",
       "</thead>\n",
       "<tbody>\n",
       "\t<tr><td>张炳山</td><td>S10T_1</td><td>P1</td><td>1140353</td><td>M</td><td>61</td><td>Y</td><td>LUSC</td><td>1</td><td>0</td><td>0</td><td>IA  </td><td>0</td><td>Wt</td><td>LUSC</td></tr>\n",
       "\t<tr><td>董永兴</td><td>S20T_1</td><td>P2</td><td>1144150</td><td>M</td><td>62</td><td>N</td><td>LUSC</td><td>1</td><td>0</td><td>0</td><td>IA  </td><td>0</td><td>Wt</td><td>LUSC</td></tr>\n",
       "\t<tr><td>陈荣华</td><td>S8T_1 </td><td>P3</td><td>1141813</td><td>M</td><td>58</td><td>N</td><td>LUSC</td><td>1</td><td>0</td><td>0</td><td>IA  </td><td>0</td><td>Wt</td><td>LUSC</td></tr>\n",
       "\t<tr><td>郭文心</td><td>S58T-1</td><td>P4</td><td>1150416</td><td>M</td><td>76</td><td>Y</td><td>LUSC</td><td>1</td><td>0</td><td>0</td><td>IA  </td><td>0</td><td>Wt</td><td>LUSC</td></tr>\n",
       "\t<tr><td>赵水水</td><td>S66T-1</td><td>P5</td><td>1150869</td><td>F</td><td>62</td><td>N</td><td>LUSC</td><td>1</td><td>0</td><td>0</td><td>IA  </td><td>0</td><td>Wt</td><td>LUSC</td></tr>\n",
       "\t<tr><td>徐德禄</td><td>S26T_1</td><td>P6</td><td>1145936</td><td>M</td><td>73</td><td>Y</td><td>LUSC</td><td>2</td><td>2</td><td>0</td><td>IIIA</td><td>0</td><td>Wt</td><td>LUSC</td></tr>\n",
       "</tbody>\n",
       "</table>\n"
      ],
      "text/latex": [
       "A tibble: 6 × 15\n",
       "\\begin{tabular}{lllllllllllllll}\n",
       " name & orig & new & ID & Gender & Age & Smoker & Subtype & T & N & M & Stage & Mutation & mutation & type\\\\\n",
       " <chr> & <chr> & <chr> & <dbl> & <chr> & <dbl> & <chr> & <chr> & <dbl> & <dbl> & <dbl> & <chr> & <chr> & <chr> & <chr>\\\\\n",
       "\\hline\n",
       "\t 张炳山 & S10T\\_1 & P1 & 1140353 & M & 61 & Y & LUSC & 1 & 0 & 0 & IA   & 0 & Wt & LUSC\\\\\n",
       "\t 董永兴 & S20T\\_1 & P2 & 1144150 & M & 62 & N & LUSC & 1 & 0 & 0 & IA   & 0 & Wt & LUSC\\\\\n",
       "\t 陈荣华 & S8T\\_1  & P3 & 1141813 & M & 58 & N & LUSC & 1 & 0 & 0 & IA   & 0 & Wt & LUSC\\\\\n",
       "\t 郭文心 & S58T-1 & P4 & 1150416 & M & 76 & Y & LUSC & 1 & 0 & 0 & IA   & 0 & Wt & LUSC\\\\\n",
       "\t 赵水水 & S66T-1 & P5 & 1150869 & F & 62 & N & LUSC & 1 & 0 & 0 & IA   & 0 & Wt & LUSC\\\\\n",
       "\t 徐德禄 & S26T\\_1 & P6 & 1145936 & M & 73 & Y & LUSC & 2 & 2 & 0 & IIIA & 0 & Wt & LUSC\\\\\n",
       "\\end{tabular}\n"
      ],
      "text/markdown": [
       "\n",
       "A tibble: 6 × 15\n",
       "\n",
       "| name &lt;chr&gt; | orig &lt;chr&gt; | new &lt;chr&gt; | ID &lt;dbl&gt; | Gender &lt;chr&gt; | Age &lt;dbl&gt; | Smoker &lt;chr&gt; | Subtype &lt;chr&gt; | T &lt;dbl&gt; | N &lt;dbl&gt; | M &lt;dbl&gt; | Stage &lt;chr&gt; | Mutation &lt;chr&gt; | mutation &lt;chr&gt; | type &lt;chr&gt; |\n",
       "|---|---|---|---|---|---|---|---|---|---|---|---|---|---|---|\n",
       "| 张炳山 | S10T_1 | P1 | 1140353 | M | 61 | Y | LUSC | 1 | 0 | 0 | IA   | 0 | Wt | LUSC |\n",
       "| 董永兴 | S20T_1 | P2 | 1144150 | M | 62 | N | LUSC | 1 | 0 | 0 | IA   | 0 | Wt | LUSC |\n",
       "| 陈荣华 | S8T_1  | P3 | 1141813 | M | 58 | N | LUSC | 1 | 0 | 0 | IA   | 0 | Wt | LUSC |\n",
       "| 郭文心 | S58T-1 | P4 | 1150416 | M | 76 | Y | LUSC | 1 | 0 | 0 | IA   | 0 | Wt | LUSC |\n",
       "| 赵水水 | S66T-1 | P5 | 1150869 | F | 62 | N | LUSC | 1 | 0 | 0 | IA   | 0 | Wt | LUSC |\n",
       "| 徐德禄 | S26T_1 | P6 | 1145936 | M | 73 | Y | LUSC | 2 | 2 | 0 | IIIA | 0 | Wt | LUSC |\n",
       "\n"
      ],
      "text/plain": [
       "  name   orig   new ID      Gender Age Smoker Subtype T N M Stage Mutation\n",
       "1 张炳山 S10T_1 P1  1140353 M      61  Y      LUSC    1 0 0 IA    0       \n",
       "2 董永兴 S20T_1 P2  1144150 M      62  N      LUSC    1 0 0 IA    0       \n",
       "3 陈荣华 S8T_1  P3  1141813 M      58  N      LUSC    1 0 0 IA    0       \n",
       "4 郭文心 S58T-1 P4  1150416 M      76  Y      LUSC    1 0 0 IA    0       \n",
       "5 赵水水 S66T-1 P5  1150869 F      62  N      LUSC    1 0 0 IA    0       \n",
       "6 徐德禄 S26T_1 P6  1145936 M      73  Y      LUSC    2 2 0 IIIA  0       \n",
       "  mutation type\n",
       "1 Wt       LUSC\n",
       "2 Wt       LUSC\n",
       "3 Wt       LUSC\n",
       "4 Wt       LUSC\n",
       "5 Wt       LUSC\n",
       "6 Wt       LUSC"
      ]
     },
     "metadata": {},
     "output_type": "display_data"
    }
   ],
   "source": [
    "head(info)"
   ]
  },
  {
   "cell_type": "code",
   "execution_count": 53,
   "metadata": {},
   "outputs": [
    {
     "data": {
      "text/html": [
       "<table>\n",
       "<caption>A data.frame: 6 × 7</caption>\n",
       "<thead>\n",
       "\t<tr><th></th><th scope=col>nGene</th><th scope=col>nUMI</th><th scope=col>orig.ident</th><th scope=col>percent.mito</th><th scope=col>res.0.6</th><th scope=col>samples</th><th scope=col>new_ident</th></tr>\n",
       "\t<tr><th></th><th scope=col>&lt;dbl&gt;</th><th scope=col>&lt;dbl&gt;</th><th scope=col>&lt;chr&gt;</th><th scope=col>&lt;dbl&gt;</th><th scope=col>&lt;chr&gt;</th><th scope=col>&lt;chr&gt;</th><th scope=col>&lt;chr&gt;</th></tr>\n",
       "</thead>\n",
       "<tbody>\n",
       "\t<tr><th scope=row>GCTACACAGACA</th><td>4374</td><td>16580</td><td>S10T</td><td>0.11314837</td><td>0</td><td>P1</td><td>C0_Myeloid</td></tr>\n",
       "\t<tr><th scope=row>TCCGGTCCCCCC</th><td>4289</td><td>15833</td><td>S10T</td><td>0.06789617</td><td>0</td><td>P1</td><td>C0_Myeloid</td></tr>\n",
       "\t<tr><th scope=row>GCTAACATATAT</th><td>3664</td><td>12985</td><td>S10T</td><td>0.11220639</td><td>0</td><td>P1</td><td>C0_Myeloid</td></tr>\n",
       "\t<tr><th scope=row>GACAGTTAGAGC</th><td>2992</td><td>11973</td><td>S10T</td><td>0.13664078</td><td>0</td><td>P1</td><td>C0_Myeloid</td></tr>\n",
       "\t<tr><th scope=row>CCCTATCGCTGA</th><td>3014</td><td>11593</td><td>S10T</td><td>0.14560511</td><td>0</td><td>P1</td><td>C0_Myeloid</td></tr>\n",
       "\t<tr><th scope=row>ATTGGCGACGAT</th><td>3149</td><td>10273</td><td>S10T</td><td>0.13803173</td><td>0</td><td>P1</td><td>C0_Myeloid</td></tr>\n",
       "</tbody>\n",
       "</table>\n"
      ],
      "text/latex": [
       "A data.frame: 6 × 7\n",
       "\\begin{tabular}{r|lllllll}\n",
       "  & nGene & nUMI & orig.ident & percent.mito & res.0.6 & samples & new\\_ident\\\\\n",
       "  & <dbl> & <dbl> & <chr> & <dbl> & <chr> & <chr> & <chr>\\\\\n",
       "\\hline\n",
       "\tGCTACACAGACA & 4374 & 16580 & S10T & 0.11314837 & 0 & P1 & C0\\_Myeloid\\\\\n",
       "\tTCCGGTCCCCCC & 4289 & 15833 & S10T & 0.06789617 & 0 & P1 & C0\\_Myeloid\\\\\n",
       "\tGCTAACATATAT & 3664 & 12985 & S10T & 0.11220639 & 0 & P1 & C0\\_Myeloid\\\\\n",
       "\tGACAGTTAGAGC & 2992 & 11973 & S10T & 0.13664078 & 0 & P1 & C0\\_Myeloid\\\\\n",
       "\tCCCTATCGCTGA & 3014 & 11593 & S10T & 0.14560511 & 0 & P1 & C0\\_Myeloid\\\\\n",
       "\tATTGGCGACGAT & 3149 & 10273 & S10T & 0.13803173 & 0 & P1 & C0\\_Myeloid\\\\\n",
       "\\end{tabular}\n"
      ],
      "text/markdown": [
       "\n",
       "A data.frame: 6 × 7\n",
       "\n",
       "| <!--/--> | nGene &lt;dbl&gt; | nUMI &lt;dbl&gt; | orig.ident &lt;chr&gt; | percent.mito &lt;dbl&gt; | res.0.6 &lt;chr&gt; | samples &lt;chr&gt; | new_ident &lt;chr&gt; |\n",
       "|---|---|---|---|---|---|---|---|\n",
       "| GCTACACAGACA | 4374 | 16580 | S10T | 0.11314837 | 0 | P1 | C0_Myeloid |\n",
       "| TCCGGTCCCCCC | 4289 | 15833 | S10T | 0.06789617 | 0 | P1 | C0_Myeloid |\n",
       "| GCTAACATATAT | 3664 | 12985 | S10T | 0.11220639 | 0 | P1 | C0_Myeloid |\n",
       "| GACAGTTAGAGC | 2992 | 11973 | S10T | 0.13664078 | 0 | P1 | C0_Myeloid |\n",
       "| CCCTATCGCTGA | 3014 | 11593 | S10T | 0.14560511 | 0 | P1 | C0_Myeloid |\n",
       "| ATTGGCGACGAT | 3149 | 10273 | S10T | 0.13803173 | 0 | P1 | C0_Myeloid |\n",
       "\n"
      ],
      "text/plain": [
       "             nGene nUMI  orig.ident percent.mito res.0.6 samples new_ident \n",
       "GCTACACAGACA 4374  16580 S10T       0.11314837   0       P1      C0_Myeloid\n",
       "TCCGGTCCCCCC 4289  15833 S10T       0.06789617   0       P1      C0_Myeloid\n",
       "GCTAACATATAT 3664  12985 S10T       0.11220639   0       P1      C0_Myeloid\n",
       "GACAGTTAGAGC 2992  11973 S10T       0.13664078   0       P1      C0_Myeloid\n",
       "CCCTATCGCTGA 3014  11593 S10T       0.14560511   0       P1      C0_Myeloid\n",
       "ATTGGCGACGAT 3149  10273 S10T       0.13803173   0       P1      C0_Myeloid"
      ]
     },
     "metadata": {},
     "output_type": "display_data"
    }
   ],
   "source": [
    "head(rds@meta.data)"
   ]
  },
  {
   "cell_type": "code",
   "execution_count": 177,
   "metadata": {},
   "outputs": [],
   "source": [
    "info.LUAD_wt= info[info$type=='LUAD_Wt' & (info$Stage != 'IB'),] \n",
    "info.LUAD_wt$name = ''\n",
    "write_tsv(info.LUAD_wt,'/SGRNJ01/RD_dir/pipeline_test/zhouyiqi/Margarete/LUAD_gene_exp/results/patient_info.txt')"
   ]
  },
  {
   "cell_type": "code",
   "execution_count": 62,
   "metadata": {},
   "outputs": [
    {
     "data": {
      "text/html": [
       "'Myeloid'"
      ],
      "text/latex": [
       "'Myeloid'"
      ],
      "text/markdown": [
       "'Myeloid'"
      ],
      "text/plain": [
       "[1] \"Myeloid\""
      ]
     },
     "metadata": {},
     "output_type": "display_data"
    }
   ],
   "source": [
    "format_type = function(x){\n",
    "    unlist(str_split(x,pattern = '_'))[2]\n",
    "}\n",
    "format_type('C0_Myeloid')"
   ]
  },
  {
   "cell_type": "code",
   "execution_count": 70,
   "metadata": {},
   "outputs": [],
   "source": [
    "rds@meta.data$cell_type = map_chr(rds@meta.data$new_ident,.f=format_type)"
   ]
  },
  {
   "cell_type": "code",
   "execution_count": 138,
   "metadata": {},
   "outputs": [
    {
     "data": {
      "text/html": [
       "<style>\n",
       ".list-inline {list-style: none; margin:0; padding: 0}\n",
       ".list-inline>li {display: inline-block}\n",
       ".list-inline>li:not(:last-child)::after {content: \"\\00b7\"; padding: 0 .5ex}\n",
       "</style>\n",
       "<ol class=list-inline><li>'Myeloid'</li><li>'LUSC'</li><li>'LUAD'</li><li>'Fibroblast'</li><li>'B'</li><li>'T'</li><li>'Epithelial'</li><li>'Endothelial'</li></ol>\n"
      ],
      "text/latex": [
       "\\begin{enumerate*}\n",
       "\\item 'Myeloid'\n",
       "\\item 'LUSC'\n",
       "\\item 'LUAD'\n",
       "\\item 'Fibroblast'\n",
       "\\item 'B'\n",
       "\\item 'T'\n",
       "\\item 'Epithelial'\n",
       "\\item 'Endothelial'\n",
       "\\end{enumerate*}\n"
      ],
      "text/markdown": [
       "1. 'Myeloid'\n",
       "2. 'LUSC'\n",
       "3. 'LUAD'\n",
       "4. 'Fibroblast'\n",
       "5. 'B'\n",
       "6. 'T'\n",
       "7. 'Epithelial'\n",
       "8. 'Endothelial'\n",
       "\n",
       "\n"
      ],
      "text/plain": [
       "[1] \"Myeloid\"     \"LUSC\"        \"LUAD\"        \"Fibroblast\"  \"B\"          \n",
       "[6] \"T\"           \"Epithelial\"  \"Endothelial\""
      ]
     },
     "metadata": {},
     "output_type": "display_data"
    }
   ],
   "source": [
    "unique(rds@meta.data$cell_type)"
   ]
  },
  {
   "cell_type": "code",
   "execution_count": null,
   "metadata": {},
   "outputs": [],
   "source": []
  },
  {
   "cell_type": "code",
   "execution_count": 140,
   "metadata": {},
   "outputs": [],
   "source": [
    "rds.LUAD_wt = SubsetData(rds,subset.name = 'samples',accept.value = c('P18','P19','P20','P21'), subset.raw = T)"
   ]
  },
  {
   "cell_type": "code",
   "execution_count": 141,
   "metadata": {},
   "outputs": [],
   "source": [
    "rds.LUAD_wt = SetAllIdent(rds.LUAD_wt, 'cell_type')\n",
    "rds.LUAD_wt = SubsetData(rds.LUAD_wt,ident.remove = c('LUSC','Epithelial'))"
   ]
  },
  {
   "cell_type": "code",
   "execution_count": 123,
   "metadata": {},
   "outputs": [
    {
     "data": {
      "text/html": [
       "<table>\n",
       "<caption>A data.frame: 6 × 8</caption>\n",
       "<thead>\n",
       "\t<tr><th></th><th scope=col>nGene</th><th scope=col>nUMI</th><th scope=col>orig.ident</th><th scope=col>percent.mito</th><th scope=col>res.0.6</th><th scope=col>samples</th><th scope=col>new_ident</th><th scope=col>cell_type</th></tr>\n",
       "\t<tr><th></th><th scope=col>&lt;dbl&gt;</th><th scope=col>&lt;dbl&gt;</th><th scope=col>&lt;chr&gt;</th><th scope=col>&lt;dbl&gt;</th><th scope=col>&lt;chr&gt;</th><th scope=col>&lt;chr&gt;</th><th scope=col>&lt;chr&gt;</th><th scope=col>&lt;chr&gt;</th></tr>\n",
       "</thead>\n",
       "<tbody>\n",
       "\t<tr><th scope=row>S18T_ACTAGTTTAATC</th><td>5592</td><td>35946</td><td>S18T</td><td>0.14805542</td><td>0</td><td>P18</td><td>C0_Myeloid</td><td>Myeloid</td></tr>\n",
       "\t<tr><th scope=row>S18T_CCACTTCCTGGC</th><td>5410</td><td>28104</td><td>S18T</td><td>0.11446769</td><td>0</td><td>P18</td><td>C0_Myeloid</td><td>Myeloid</td></tr>\n",
       "\t<tr><th scope=row>S18T_ACCCTAGGAATT</th><td>5260</td><td>22644</td><td>S18T</td><td>0.12493376</td><td>0</td><td>P18</td><td>C0_Myeloid</td><td>Myeloid</td></tr>\n",
       "\t<tr><th scope=row>S18T_GTTATCGCAGAA</th><td>5003</td><td>21648</td><td>S18T</td><td>0.11049520</td><td>0</td><td>P18</td><td>C0_Myeloid</td><td>Myeloid</td></tr>\n",
       "\t<tr><th scope=row>S18T_GAAGCTAACTAC</th><td>4373</td><td>19688</td><td>S18T</td><td>0.08355343</td><td>0</td><td>P18</td><td>C0_Myeloid</td><td>Myeloid</td></tr>\n",
       "\t<tr><th scope=row>S18T_CGGCCCCTGTCA</th><td>4283</td><td>16887</td><td>S18T</td><td>0.12299402</td><td>0</td><td>P18</td><td>C0_Myeloid</td><td>Myeloid</td></tr>\n",
       "</tbody>\n",
       "</table>\n"
      ],
      "text/latex": [
       "A data.frame: 6 × 8\n",
       "\\begin{tabular}{r|llllllll}\n",
       "  & nGene & nUMI & orig.ident & percent.mito & res.0.6 & samples & new\\_ident & cell\\_type\\\\\n",
       "  & <dbl> & <dbl> & <chr> & <dbl> & <chr> & <chr> & <chr> & <chr>\\\\\n",
       "\\hline\n",
       "\tS18T\\_ACTAGTTTAATC & 5592 & 35946 & S18T & 0.14805542 & 0 & P18 & C0\\_Myeloid & Myeloid\\\\\n",
       "\tS18T\\_CCACTTCCTGGC & 5410 & 28104 & S18T & 0.11446769 & 0 & P18 & C0\\_Myeloid & Myeloid\\\\\n",
       "\tS18T\\_ACCCTAGGAATT & 5260 & 22644 & S18T & 0.12493376 & 0 & P18 & C0\\_Myeloid & Myeloid\\\\\n",
       "\tS18T\\_GTTATCGCAGAA & 5003 & 21648 & S18T & 0.11049520 & 0 & P18 & C0\\_Myeloid & Myeloid\\\\\n",
       "\tS18T\\_GAAGCTAACTAC & 4373 & 19688 & S18T & 0.08355343 & 0 & P18 & C0\\_Myeloid & Myeloid\\\\\n",
       "\tS18T\\_CGGCCCCTGTCA & 4283 & 16887 & S18T & 0.12299402 & 0 & P18 & C0\\_Myeloid & Myeloid\\\\\n",
       "\\end{tabular}\n"
      ],
      "text/markdown": [
       "\n",
       "A data.frame: 6 × 8\n",
       "\n",
       "| <!--/--> | nGene &lt;dbl&gt; | nUMI &lt;dbl&gt; | orig.ident &lt;chr&gt; | percent.mito &lt;dbl&gt; | res.0.6 &lt;chr&gt; | samples &lt;chr&gt; | new_ident &lt;chr&gt; | cell_type &lt;chr&gt; |\n",
       "|---|---|---|---|---|---|---|---|---|\n",
       "| S18T_ACTAGTTTAATC | 5592 | 35946 | S18T | 0.14805542 | 0 | P18 | C0_Myeloid | Myeloid |\n",
       "| S18T_CCACTTCCTGGC | 5410 | 28104 | S18T | 0.11446769 | 0 | P18 | C0_Myeloid | Myeloid |\n",
       "| S18T_ACCCTAGGAATT | 5260 | 22644 | S18T | 0.12493376 | 0 | P18 | C0_Myeloid | Myeloid |\n",
       "| S18T_GTTATCGCAGAA | 5003 | 21648 | S18T | 0.11049520 | 0 | P18 | C0_Myeloid | Myeloid |\n",
       "| S18T_GAAGCTAACTAC | 4373 | 19688 | S18T | 0.08355343 | 0 | P18 | C0_Myeloid | Myeloid |\n",
       "| S18T_CGGCCCCTGTCA | 4283 | 16887 | S18T | 0.12299402 | 0 | P18 | C0_Myeloid | Myeloid |\n",
       "\n"
      ],
      "text/plain": [
       "                  nGene nUMI  orig.ident percent.mito res.0.6 samples\n",
       "S18T_ACTAGTTTAATC 5592  35946 S18T       0.14805542   0       P18    \n",
       "S18T_CCACTTCCTGGC 5410  28104 S18T       0.11446769   0       P18    \n",
       "S18T_ACCCTAGGAATT 5260  22644 S18T       0.12493376   0       P18    \n",
       "S18T_GTTATCGCAGAA 5003  21648 S18T       0.11049520   0       P18    \n",
       "S18T_GAAGCTAACTAC 4373  19688 S18T       0.08355343   0       P18    \n",
       "S18T_CGGCCCCTGTCA 4283  16887 S18T       0.12299402   0       P18    \n",
       "                  new_ident  cell_type\n",
       "S18T_ACTAGTTTAATC C0_Myeloid Myeloid  \n",
       "S18T_CCACTTCCTGGC C0_Myeloid Myeloid  \n",
       "S18T_ACCCTAGGAATT C0_Myeloid Myeloid  \n",
       "S18T_GTTATCGCAGAA C0_Myeloid Myeloid  \n",
       "S18T_GAAGCTAACTAC C0_Myeloid Myeloid  \n",
       "S18T_CGGCCCCTGTCA C0_Myeloid Myeloid  "
      ]
     },
     "metadata": {},
     "output_type": "display_data"
    }
   ],
   "source": [
    "head(rds.LUAD_wt@meta.data)"
   ]
  },
  {
   "cell_type": "code",
   "execution_count": 142,
   "metadata": {},
   "outputs": [],
   "source": [
    "stage_dict = info$Stage\n",
    "names(stage_dict) = info$new"
   ]
  },
  {
   "cell_type": "code",
   "execution_count": 143,
   "metadata": {},
   "outputs": [],
   "source": [
    "rds.LUAD_wt@meta.data$stage = stage_dict[rds.LUAD_wt@meta.data$samples]\n"
   ]
  },
  {
   "cell_type": "code",
   "execution_count": 144,
   "metadata": {},
   "outputs": [],
   "source": [
    "# paste\n",
    "meta = rds.LUAD_wt@meta.data\n",
    "cols = c('cell_type','stage')\n",
    "meta$combine <- apply( meta[ , cols ] , 1 , paste , collapse = \"-\" )\n",
    "rds.LUAD_wt@meta.data = meta"
   ]
  },
  {
   "cell_type": "code",
   "execution_count": 145,
   "metadata": {},
   "outputs": [
    {
     "ename": "ERROR",
     "evalue": "Error in save(rds.LUAD_wt, \"/SGRNJ01/RD_dir/pipeline_test/zhouyiqi/Margarete_dir/LUAD/data/\"): object ‘/SGRNJ01/RD_dir/pipeline_test/zhouyiqi/Margarete_dir/LUAD/data/’ not found\n",
     "output_type": "error",
     "traceback": [
      "Error in save(rds.LUAD_wt, \"/SGRNJ01/RD_dir/pipeline_test/zhouyiqi/Margarete_dir/LUAD/data/\"): object ‘/SGRNJ01/RD_dir/pipeline_test/zhouyiqi/Margarete_dir/LUAD/data/’ not found\nTraceback:\n",
      "1. save(rds.LUAD_wt, \"/SGRNJ01/RD_dir/pipeline_test/zhouyiqi/Margarete_dir/LUAD/data/\")",
      "2. stop(sprintf(ngettext(n, \"object %s not found\", \"objects %s not found\"), \n .     paste(sQuote(list[!ok]), collapse = \", \")), domain = NA)"
     ]
    }
   ],
   "source": [
    "rds.LUAD_wt = SetAllIdent(rds.LUAD_wt, 'combine')\n",
    "save(rds.LUAD_wt, '/SGRNJ01/RD_dir/pipeline_test/zhouyiqi/Margarete_dir/LUAD/data/')"
   ]
  },
  {
   "cell_type": "code",
   "execution_count": 146,
   "metadata": {},
   "outputs": [
    {
     "name": "stderr",
     "output_type": "stream",
     "text": [
      "Parsed with column specification:\n",
      "cols(\n",
      "  gene_symbol = \u001b[31mcol_character()\u001b[39m,\n",
      "  gene_biotype = \u001b[31mcol_character()\u001b[39m\n",
      ")\n",
      "\n"
     ]
    }
   ],
   "source": [
    "setwd('/SGRNJ01/RD_dir/pipeline_test/zhouyiqi/Margarete/LUAD_gene_exp/results')\n",
    "genes = read_tsv('gene_symbol.txt')"
   ]
  },
  {
   "cell_type": "code",
   "execution_count": 147,
   "metadata": {},
   "outputs": [],
   "source": [
    "types = unique(genes$gene_biotype)"
   ]
  },
  {
   "cell_type": "code",
   "execution_count": 148,
   "metadata": {},
   "outputs": [
    {
     "data": {
      "text/html": [
       "<table>\n",
       "<caption>A data.frame: 6 × 10</caption>\n",
       "<thead>\n",
       "\t<tr><th></th><th scope=col>nGene</th><th scope=col>nUMI</th><th scope=col>orig.ident</th><th scope=col>percent.mito</th><th scope=col>res.0.6</th><th scope=col>samples</th><th scope=col>new_ident</th><th scope=col>cell_type</th><th scope=col>stage</th><th scope=col>combine</th></tr>\n",
       "\t<tr><th></th><th scope=col>&lt;dbl&gt;</th><th scope=col>&lt;dbl&gt;</th><th scope=col>&lt;chr&gt;</th><th scope=col>&lt;dbl&gt;</th><th scope=col>&lt;chr&gt;</th><th scope=col>&lt;chr&gt;</th><th scope=col>&lt;chr&gt;</th><th scope=col>&lt;chr&gt;</th><th scope=col>&lt;chr&gt;</th><th scope=col>&lt;chr&gt;</th></tr>\n",
       "</thead>\n",
       "<tbody>\n",
       "\t<tr><th scope=row>S18T_ACTAGTTTAATC</th><td>5592</td><td>35946</td><td>S18T</td><td>0.14805542</td><td>0</td><td>P18</td><td>C0_Myeloid</td><td>Myeloid</td><td>IA</td><td>Myeloid-IA</td></tr>\n",
       "\t<tr><th scope=row>S18T_CCACTTCCTGGC</th><td>5410</td><td>28104</td><td>S18T</td><td>0.11446769</td><td>0</td><td>P18</td><td>C0_Myeloid</td><td>Myeloid</td><td>IA</td><td>Myeloid-IA</td></tr>\n",
       "\t<tr><th scope=row>S18T_ACCCTAGGAATT</th><td>5260</td><td>22644</td><td>S18T</td><td>0.12493376</td><td>0</td><td>P18</td><td>C0_Myeloid</td><td>Myeloid</td><td>IA</td><td>Myeloid-IA</td></tr>\n",
       "\t<tr><th scope=row>S18T_GTTATCGCAGAA</th><td>5003</td><td>21648</td><td>S18T</td><td>0.11049520</td><td>0</td><td>P18</td><td>C0_Myeloid</td><td>Myeloid</td><td>IA</td><td>Myeloid-IA</td></tr>\n",
       "\t<tr><th scope=row>S18T_GAAGCTAACTAC</th><td>4373</td><td>19688</td><td>S18T</td><td>0.08355343</td><td>0</td><td>P18</td><td>C0_Myeloid</td><td>Myeloid</td><td>IA</td><td>Myeloid-IA</td></tr>\n",
       "\t<tr><th scope=row>S18T_CGGCCCCTGTCA</th><td>4283</td><td>16887</td><td>S18T</td><td>0.12299402</td><td>0</td><td>P18</td><td>C0_Myeloid</td><td>Myeloid</td><td>IA</td><td>Myeloid-IA</td></tr>\n",
       "</tbody>\n",
       "</table>\n"
      ],
      "text/latex": [
       "A data.frame: 6 × 10\n",
       "\\begin{tabular}{r|llllllllll}\n",
       "  & nGene & nUMI & orig.ident & percent.mito & res.0.6 & samples & new\\_ident & cell\\_type & stage & combine\\\\\n",
       "  & <dbl> & <dbl> & <chr> & <dbl> & <chr> & <chr> & <chr> & <chr> & <chr> & <chr>\\\\\n",
       "\\hline\n",
       "\tS18T\\_ACTAGTTTAATC & 5592 & 35946 & S18T & 0.14805542 & 0 & P18 & C0\\_Myeloid & Myeloid & IA & Myeloid-IA\\\\\n",
       "\tS18T\\_CCACTTCCTGGC & 5410 & 28104 & S18T & 0.11446769 & 0 & P18 & C0\\_Myeloid & Myeloid & IA & Myeloid-IA\\\\\n",
       "\tS18T\\_ACCCTAGGAATT & 5260 & 22644 & S18T & 0.12493376 & 0 & P18 & C0\\_Myeloid & Myeloid & IA & Myeloid-IA\\\\\n",
       "\tS18T\\_GTTATCGCAGAA & 5003 & 21648 & S18T & 0.11049520 & 0 & P18 & C0\\_Myeloid & Myeloid & IA & Myeloid-IA\\\\\n",
       "\tS18T\\_GAAGCTAACTAC & 4373 & 19688 & S18T & 0.08355343 & 0 & P18 & C0\\_Myeloid & Myeloid & IA & Myeloid-IA\\\\\n",
       "\tS18T\\_CGGCCCCTGTCA & 4283 & 16887 & S18T & 0.12299402 & 0 & P18 & C0\\_Myeloid & Myeloid & IA & Myeloid-IA\\\\\n",
       "\\end{tabular}\n"
      ],
      "text/markdown": [
       "\n",
       "A data.frame: 6 × 10\n",
       "\n",
       "| <!--/--> | nGene &lt;dbl&gt; | nUMI &lt;dbl&gt; | orig.ident &lt;chr&gt; | percent.mito &lt;dbl&gt; | res.0.6 &lt;chr&gt; | samples &lt;chr&gt; | new_ident &lt;chr&gt; | cell_type &lt;chr&gt; | stage &lt;chr&gt; | combine &lt;chr&gt; |\n",
       "|---|---|---|---|---|---|---|---|---|---|---|\n",
       "| S18T_ACTAGTTTAATC | 5592 | 35946 | S18T | 0.14805542 | 0 | P18 | C0_Myeloid | Myeloid | IA | Myeloid-IA |\n",
       "| S18T_CCACTTCCTGGC | 5410 | 28104 | S18T | 0.11446769 | 0 | P18 | C0_Myeloid | Myeloid | IA | Myeloid-IA |\n",
       "| S18T_ACCCTAGGAATT | 5260 | 22644 | S18T | 0.12493376 | 0 | P18 | C0_Myeloid | Myeloid | IA | Myeloid-IA |\n",
       "| S18T_GTTATCGCAGAA | 5003 | 21648 | S18T | 0.11049520 | 0 | P18 | C0_Myeloid | Myeloid | IA | Myeloid-IA |\n",
       "| S18T_GAAGCTAACTAC | 4373 | 19688 | S18T | 0.08355343 | 0 | P18 | C0_Myeloid | Myeloid | IA | Myeloid-IA |\n",
       "| S18T_CGGCCCCTGTCA | 4283 | 16887 | S18T | 0.12299402 | 0 | P18 | C0_Myeloid | Myeloid | IA | Myeloid-IA |\n",
       "\n"
      ],
      "text/plain": [
       "                  nGene nUMI  orig.ident percent.mito res.0.6 samples\n",
       "S18T_ACTAGTTTAATC 5592  35946 S18T       0.14805542   0       P18    \n",
       "S18T_CCACTTCCTGGC 5410  28104 S18T       0.11446769   0       P18    \n",
       "S18T_ACCCTAGGAATT 5260  22644 S18T       0.12493376   0       P18    \n",
       "S18T_GTTATCGCAGAA 5003  21648 S18T       0.11049520   0       P18    \n",
       "S18T_GAAGCTAACTAC 4373  19688 S18T       0.08355343   0       P18    \n",
       "S18T_CGGCCCCTGTCA 4283  16887 S18T       0.12299402   0       P18    \n",
       "                  new_ident  cell_type stage combine   \n",
       "S18T_ACTAGTTTAATC C0_Myeloid Myeloid   IA    Myeloid-IA\n",
       "S18T_CCACTTCCTGGC C0_Myeloid Myeloid   IA    Myeloid-IA\n",
       "S18T_ACCCTAGGAATT C0_Myeloid Myeloid   IA    Myeloid-IA\n",
       "S18T_GTTATCGCAGAA C0_Myeloid Myeloid   IA    Myeloid-IA\n",
       "S18T_GAAGCTAACTAC C0_Myeloid Myeloid   IA    Myeloid-IA\n",
       "S18T_CGGCCCCTGTCA C0_Myeloid Myeloid   IA    Myeloid-IA"
      ]
     },
     "metadata": {},
     "output_type": "display_data"
    }
   ],
   "source": [
    "head(rds.LUAD_wt@meta.data)"
   ]
  },
  {
   "cell_type": "code",
   "execution_count": 149,
   "metadata": {},
   "outputs": [
    {
     "data": {
      "text/html": [
       "<table>\n",
       "<caption>A tibble: 6 × 2</caption>\n",
       "<thead>\n",
       "\t<tr><th scope=col>gene_symbol</th><th scope=col>gene_biotype</th></tr>\n",
       "\t<tr><th scope=col>&lt;chr&gt;</th><th scope=col>&lt;chr&gt;</th></tr>\n",
       "</thead>\n",
       "<tbody>\n",
       "\t<tr><td>MT-TF  </td><td>Mitochondrial_genes</td></tr>\n",
       "\t<tr><td>MT-RNP1</td><td>Mitochondrial_genes</td></tr>\n",
       "\t<tr><td>MT-TV  </td><td>Mitochondrial_genes</td></tr>\n",
       "\t<tr><td>MT-RNP2</td><td>Mitochondrial_genes</td></tr>\n",
       "\t<tr><td>MT-TL1 </td><td>Mitochondrial_genes</td></tr>\n",
       "\t<tr><td>MT-ND1 </td><td>Mitochondrial_genes</td></tr>\n",
       "</tbody>\n",
       "</table>\n"
      ],
      "text/latex": [
       "A tibble: 6 × 2\n",
       "\\begin{tabular}{ll}\n",
       " gene\\_symbol & gene\\_biotype\\\\\n",
       " <chr> & <chr>\\\\\n",
       "\\hline\n",
       "\t MT-TF   & Mitochondrial\\_genes\\\\\n",
       "\t MT-RNP1 & Mitochondrial\\_genes\\\\\n",
       "\t MT-TV   & Mitochondrial\\_genes\\\\\n",
       "\t MT-RNP2 & Mitochondrial\\_genes\\\\\n",
       "\t MT-TL1  & Mitochondrial\\_genes\\\\\n",
       "\t MT-ND1  & Mitochondrial\\_genes\\\\\n",
       "\\end{tabular}\n"
      ],
      "text/markdown": [
       "\n",
       "A tibble: 6 × 2\n",
       "\n",
       "| gene_symbol &lt;chr&gt; | gene_biotype &lt;chr&gt; |\n",
       "|---|---|\n",
       "| MT-TF   | Mitochondrial_genes |\n",
       "| MT-RNP1 | Mitochondrial_genes |\n",
       "| MT-TV   | Mitochondrial_genes |\n",
       "| MT-RNP2 | Mitochondrial_genes |\n",
       "| MT-TL1  | Mitochondrial_genes |\n",
       "| MT-ND1  | Mitochondrial_genes |\n",
       "\n"
      ],
      "text/plain": [
       "  gene_symbol gene_biotype       \n",
       "1 MT-TF       Mitochondrial_genes\n",
       "2 MT-RNP1     Mitochondrial_genes\n",
       "3 MT-TV       Mitochondrial_genes\n",
       "4 MT-RNP2     Mitochondrial_genes\n",
       "5 MT-TL1      Mitochondrial_genes\n",
       "6 MT-ND1      Mitochondrial_genes"
      ]
     },
     "metadata": {},
     "output_type": "display_data"
    }
   ],
   "source": [
    "head(genes)"
   ]
  },
  {
   "cell_type": "code",
   "execution_count": 165,
   "metadata": {},
   "outputs": [],
   "source": [
    "genes.all = rownames(rds.LUAD_wt@raw.data)"
   ]
  },
  {
   "cell_type": "code",
   "execution_count": 166,
   "metadata": {},
   "outputs": [],
   "source": [
    "# test\n",
    "type = 'Mitochondrial_genes'\n",
    "genes.given = genes[genes$gene_biotype == type,]$gene_symbol\n",
    "genes.plot = intersect(genes.given, genes.all)\n"
   ]
  },
  {
   "cell_type": "code",
   "execution_count": 168,
   "metadata": {},
   "outputs": [
    {
     "data": {
      "text/html": [
       "<style>\n",
       ".list-inline {list-style: none; margin:0; padding: 0}\n",
       ".list-inline>li {display: inline-block}\n",
       ".list-inline>li:not(:last-child)::after {content: \"\\00b7\"; padding: 0 .5ex}\n",
       "</style>\n",
       "<ol class=list-inline><li>'MT-TF'</li><li>'MT-RNP1'</li><li>'MT-TV'</li><li>'MT-RNP2'</li><li>'MT-TL1'</li><li>'MT-ND1'</li><li>'MT-ND2'</li><li>'MT-ND3'</li><li>'MT-ND4'</li><li>'MT-ND5'</li><li>'MT-ND6'</li><li>'MT-TI'</li><li>'MT-TQ'</li><li>'MT-TM'</li><li>'MT-TW'</li><li>'MT-TA'</li><li>'MT-TN'</li><li>'MT-TC'</li><li>'MT-TY'</li><li>'MT-CO1'</li><li>'MT-CO2'</li><li>'MT-CO3'</li><li>'MT-TS1'</li><li>'MT-TD'</li><li>'MT-TK'</li><li>'MT-ATP8'</li><li>'MT-ATP6'</li><li>'MT-T6'</li><li>'MT-TR'</li><li>'MT-ND4L'</li><li>'MT-TH'</li><li>'MT-TS2'</li><li>'MT-TL2'</li><li>'MT-CYB'</li><li>'MT-TT'</li><li>'MT-TP'</li></ol>\n"
      ],
      "text/latex": [
       "\\begin{enumerate*}\n",
       "\\item 'MT-TF'\n",
       "\\item 'MT-RNP1'\n",
       "\\item 'MT-TV'\n",
       "\\item 'MT-RNP2'\n",
       "\\item 'MT-TL1'\n",
       "\\item 'MT-ND1'\n",
       "\\item 'MT-ND2'\n",
       "\\item 'MT-ND3'\n",
       "\\item 'MT-ND4'\n",
       "\\item 'MT-ND5'\n",
       "\\item 'MT-ND6'\n",
       "\\item 'MT-TI'\n",
       "\\item 'MT-TQ'\n",
       "\\item 'MT-TM'\n",
       "\\item 'MT-TW'\n",
       "\\item 'MT-TA'\n",
       "\\item 'MT-TN'\n",
       "\\item 'MT-TC'\n",
       "\\item 'MT-TY'\n",
       "\\item 'MT-CO1'\n",
       "\\item 'MT-CO2'\n",
       "\\item 'MT-CO3'\n",
       "\\item 'MT-TS1'\n",
       "\\item 'MT-TD'\n",
       "\\item 'MT-TK'\n",
       "\\item 'MT-ATP8'\n",
       "\\item 'MT-ATP6'\n",
       "\\item 'MT-T6'\n",
       "\\item 'MT-TR'\n",
       "\\item 'MT-ND4L'\n",
       "\\item 'MT-TH'\n",
       "\\item 'MT-TS2'\n",
       "\\item 'MT-TL2'\n",
       "\\item 'MT-CYB'\n",
       "\\item 'MT-TT'\n",
       "\\item 'MT-TP'\n",
       "\\end{enumerate*}\n"
      ],
      "text/markdown": [
       "1. 'MT-TF'\n",
       "2. 'MT-RNP1'\n",
       "3. 'MT-TV'\n",
       "4. 'MT-RNP2'\n",
       "5. 'MT-TL1'\n",
       "6. 'MT-ND1'\n",
       "7. 'MT-ND2'\n",
       "8. 'MT-ND3'\n",
       "9. 'MT-ND4'\n",
       "10. 'MT-ND5'\n",
       "11. 'MT-ND6'\n",
       "12. 'MT-TI'\n",
       "13. 'MT-TQ'\n",
       "14. 'MT-TM'\n",
       "15. 'MT-TW'\n",
       "16. 'MT-TA'\n",
       "17. 'MT-TN'\n",
       "18. 'MT-TC'\n",
       "19. 'MT-TY'\n",
       "20. 'MT-CO1'\n",
       "21. 'MT-CO2'\n",
       "22. 'MT-CO3'\n",
       "23. 'MT-TS1'\n",
       "24. 'MT-TD'\n",
       "25. 'MT-TK'\n",
       "26. 'MT-ATP8'\n",
       "27. 'MT-ATP6'\n",
       "28. 'MT-T6'\n",
       "29. 'MT-TR'\n",
       "30. 'MT-ND4L'\n",
       "31. 'MT-TH'\n",
       "32. 'MT-TS2'\n",
       "33. 'MT-TL2'\n",
       "34. 'MT-CYB'\n",
       "35. 'MT-TT'\n",
       "36. 'MT-TP'\n",
       "\n",
       "\n"
      ],
      "text/plain": [
       " [1] \"MT-TF\"   \"MT-RNP1\" \"MT-TV\"   \"MT-RNP2\" \"MT-TL1\"  \"MT-ND1\"  \"MT-ND2\" \n",
       " [8] \"MT-ND3\"  \"MT-ND4\"  \"MT-ND5\"  \"MT-ND6\"  \"MT-TI\"   \"MT-TQ\"   \"MT-TM\"  \n",
       "[15] \"MT-TW\"   \"MT-TA\"   \"MT-TN\"   \"MT-TC\"   \"MT-TY\"   \"MT-CO1\"  \"MT-CO2\" \n",
       "[22] \"MT-CO3\"  \"MT-TS1\"  \"MT-TD\"   \"MT-TK\"   \"MT-ATP8\" \"MT-ATP6\" \"MT-T6\"  \n",
       "[29] \"MT-TR\"   \"MT-ND4L\" \"MT-TH\"   \"MT-TS2\"  \"MT-TL2\"  \"MT-CYB\"  \"MT-TT\"  \n",
       "[36] \"MT-TP\"  "
      ]
     },
     "metadata": {},
     "output_type": "display_data"
    }
   ],
   "source": [
    "genes.given"
   ]
  },
  {
   "cell_type": "code",
   "execution_count": 172,
   "metadata": {},
   "outputs": [
    {
     "data": {
      "text/html": [
       "<style>\n",
       ".list-inline {list-style: none; margin:0; padding: 0}\n",
       ".list-inline>li {display: inline-block}\n",
       ".list-inline>li:not(:last-child)::after {content: \"\\00b7\"; padding: 0 .5ex}\n",
       "</style>\n",
       "<ol class=list-inline><li>'MT-RNP1'</li><li>'MT-RNP2'</li><li>'MT-T6'</li></ol>\n"
      ],
      "text/latex": [
       "\\begin{enumerate*}\n",
       "\\item 'MT-RNP1'\n",
       "\\item 'MT-RNP2'\n",
       "\\item 'MT-T6'\n",
       "\\end{enumerate*}\n"
      ],
      "text/markdown": [
       "1. 'MT-RNP1'\n",
       "2. 'MT-RNP2'\n",
       "3. 'MT-T6'\n",
       "\n",
       "\n"
      ],
      "text/plain": [
       "[1] \"MT-RNP1\" \"MT-RNP2\" \"MT-T6\"  "
      ]
     },
     "metadata": {},
     "output_type": "display_data"
    }
   ],
   "source": [
    "genes.given[!genes.given %in% genes.all]"
   ]
  },
  {
   "cell_type": "code",
   "execution_count": 173,
   "metadata": {},
   "outputs": [
    {
     "data": {
      "text/html": [
       "<style>\n",
       ".list-inline {list-style: none; margin:0; padding: 0}\n",
       ".list-inline>li {display: inline-block}\n",
       ".list-inline>li:not(:last-child)::after {content: \"\\00b7\"; padding: 0 .5ex}\n",
       "</style>\n",
       "<ol class=list-inline><li>'MT-TF'</li><li>'MT-TV'</li><li>'MT-TL1'</li><li>'MT-ND1'</li><li>'MT-ND2'</li><li>'MT-ND3'</li><li>'MT-ND4'</li><li>'MT-ND5'</li><li>'MT-ND6'</li><li>'MT-TI'</li><li>'MT-TQ'</li><li>'MT-TM'</li><li>'MT-TW'</li><li>'MT-TA'</li><li>'MT-TN'</li><li>'MT-TC'</li><li>'MT-TY'</li><li>'MT-CO1'</li><li>'MT-CO2'</li><li>'MT-CO3'</li><li>'MT-TS1'</li><li>'MT-TD'</li><li>'MT-TK'</li><li>'MT-ATP8'</li><li>'MT-ATP6'</li><li>'MT-TR'</li><li>'MT-ND4L'</li><li>'MT-TH'</li><li>'MT-TS2'</li><li>'MT-TL2'</li><li>'MT-CYB'</li><li>'MT-TT'</li><li>'MT-TP'</li></ol>\n"
      ],
      "text/latex": [
       "\\begin{enumerate*}\n",
       "\\item 'MT-TF'\n",
       "\\item 'MT-TV'\n",
       "\\item 'MT-TL1'\n",
       "\\item 'MT-ND1'\n",
       "\\item 'MT-ND2'\n",
       "\\item 'MT-ND3'\n",
       "\\item 'MT-ND4'\n",
       "\\item 'MT-ND5'\n",
       "\\item 'MT-ND6'\n",
       "\\item 'MT-TI'\n",
       "\\item 'MT-TQ'\n",
       "\\item 'MT-TM'\n",
       "\\item 'MT-TW'\n",
       "\\item 'MT-TA'\n",
       "\\item 'MT-TN'\n",
       "\\item 'MT-TC'\n",
       "\\item 'MT-TY'\n",
       "\\item 'MT-CO1'\n",
       "\\item 'MT-CO2'\n",
       "\\item 'MT-CO3'\n",
       "\\item 'MT-TS1'\n",
       "\\item 'MT-TD'\n",
       "\\item 'MT-TK'\n",
       "\\item 'MT-ATP8'\n",
       "\\item 'MT-ATP6'\n",
       "\\item 'MT-TR'\n",
       "\\item 'MT-ND4L'\n",
       "\\item 'MT-TH'\n",
       "\\item 'MT-TS2'\n",
       "\\item 'MT-TL2'\n",
       "\\item 'MT-CYB'\n",
       "\\item 'MT-TT'\n",
       "\\item 'MT-TP'\n",
       "\\end{enumerate*}\n"
      ],
      "text/markdown": [
       "1. 'MT-TF'\n",
       "2. 'MT-TV'\n",
       "3. 'MT-TL1'\n",
       "4. 'MT-ND1'\n",
       "5. 'MT-ND2'\n",
       "6. 'MT-ND3'\n",
       "7. 'MT-ND4'\n",
       "8. 'MT-ND5'\n",
       "9. 'MT-ND6'\n",
       "10. 'MT-TI'\n",
       "11. 'MT-TQ'\n",
       "12. 'MT-TM'\n",
       "13. 'MT-TW'\n",
       "14. 'MT-TA'\n",
       "15. 'MT-TN'\n",
       "16. 'MT-TC'\n",
       "17. 'MT-TY'\n",
       "18. 'MT-CO1'\n",
       "19. 'MT-CO2'\n",
       "20. 'MT-CO3'\n",
       "21. 'MT-TS1'\n",
       "22. 'MT-TD'\n",
       "23. 'MT-TK'\n",
       "24. 'MT-ATP8'\n",
       "25. 'MT-ATP6'\n",
       "26. 'MT-TR'\n",
       "27. 'MT-ND4L'\n",
       "28. 'MT-TH'\n",
       "29. 'MT-TS2'\n",
       "30. 'MT-TL2'\n",
       "31. 'MT-CYB'\n",
       "32. 'MT-TT'\n",
       "33. 'MT-TP'\n",
       "\n",
       "\n"
      ],
      "text/plain": [
       " [1] \"MT-TF\"   \"MT-TV\"   \"MT-TL1\"  \"MT-ND1\"  \"MT-ND2\"  \"MT-ND3\"  \"MT-ND4\" \n",
       " [8] \"MT-ND5\"  \"MT-ND6\"  \"MT-TI\"   \"MT-TQ\"   \"MT-TM\"   \"MT-TW\"   \"MT-TA\"  \n",
       "[15] \"MT-TN\"   \"MT-TC\"   \"MT-TY\"   \"MT-CO1\"  \"MT-CO2\"  \"MT-CO3\"  \"MT-TS1\" \n",
       "[22] \"MT-TD\"   \"MT-TK\"   \"MT-ATP8\" \"MT-ATP6\" \"MT-TR\"   \"MT-ND4L\" \"MT-TH\"  \n",
       "[29] \"MT-TS2\"  \"MT-TL2\"  \"MT-CYB\"  \"MT-TT\"   \"MT-TP\"  "
      ]
     },
     "metadata": {},
     "output_type": "display_data"
    }
   ],
   "source": [
    "genes.plot"
   ]
  },
  {
   "cell_type": "code",
   "execution_count": 153,
   "metadata": {},
   "outputs": [
    {
     "data": {
      "text/html": [
       "<table>\n",
       "<caption>A data.frame: 6 × 10</caption>\n",
       "<thead>\n",
       "\t<tr><th></th><th scope=col>nGene</th><th scope=col>nUMI</th><th scope=col>orig.ident</th><th scope=col>percent.mito</th><th scope=col>res.0.6</th><th scope=col>samples</th><th scope=col>new_ident</th><th scope=col>cell_type</th><th scope=col>stage</th><th scope=col>combine</th></tr>\n",
       "\t<tr><th></th><th scope=col>&lt;dbl&gt;</th><th scope=col>&lt;dbl&gt;</th><th scope=col>&lt;chr&gt;</th><th scope=col>&lt;dbl&gt;</th><th scope=col>&lt;chr&gt;</th><th scope=col>&lt;chr&gt;</th><th scope=col>&lt;chr&gt;</th><th scope=col>&lt;chr&gt;</th><th scope=col>&lt;chr&gt;</th><th scope=col>&lt;chr&gt;</th></tr>\n",
       "</thead>\n",
       "<tbody>\n",
       "\t<tr><th scope=row>S18T_ACTAGTTTAATC</th><td>5592</td><td>35946</td><td>S18T</td><td>0.14805542</td><td>0</td><td>P18</td><td>C0_Myeloid</td><td>Myeloid</td><td>IA</td><td>Myeloid-IA</td></tr>\n",
       "\t<tr><th scope=row>S18T_CCACTTCCTGGC</th><td>5410</td><td>28104</td><td>S18T</td><td>0.11446769</td><td>0</td><td>P18</td><td>C0_Myeloid</td><td>Myeloid</td><td>IA</td><td>Myeloid-IA</td></tr>\n",
       "\t<tr><th scope=row>S18T_ACCCTAGGAATT</th><td>5260</td><td>22644</td><td>S18T</td><td>0.12493376</td><td>0</td><td>P18</td><td>C0_Myeloid</td><td>Myeloid</td><td>IA</td><td>Myeloid-IA</td></tr>\n",
       "\t<tr><th scope=row>S18T_GTTATCGCAGAA</th><td>5003</td><td>21648</td><td>S18T</td><td>0.11049520</td><td>0</td><td>P18</td><td>C0_Myeloid</td><td>Myeloid</td><td>IA</td><td>Myeloid-IA</td></tr>\n",
       "\t<tr><th scope=row>S18T_GAAGCTAACTAC</th><td>4373</td><td>19688</td><td>S18T</td><td>0.08355343</td><td>0</td><td>P18</td><td>C0_Myeloid</td><td>Myeloid</td><td>IA</td><td>Myeloid-IA</td></tr>\n",
       "\t<tr><th scope=row>S18T_CGGCCCCTGTCA</th><td>4283</td><td>16887</td><td>S18T</td><td>0.12299402</td><td>0</td><td>P18</td><td>C0_Myeloid</td><td>Myeloid</td><td>IA</td><td>Myeloid-IA</td></tr>\n",
       "</tbody>\n",
       "</table>\n"
      ],
      "text/latex": [
       "A data.frame: 6 × 10\n",
       "\\begin{tabular}{r|llllllllll}\n",
       "  & nGene & nUMI & orig.ident & percent.mito & res.0.6 & samples & new\\_ident & cell\\_type & stage & combine\\\\\n",
       "  & <dbl> & <dbl> & <chr> & <dbl> & <chr> & <chr> & <chr> & <chr> & <chr> & <chr>\\\\\n",
       "\\hline\n",
       "\tS18T\\_ACTAGTTTAATC & 5592 & 35946 & S18T & 0.14805542 & 0 & P18 & C0\\_Myeloid & Myeloid & IA & Myeloid-IA\\\\\n",
       "\tS18T\\_CCACTTCCTGGC & 5410 & 28104 & S18T & 0.11446769 & 0 & P18 & C0\\_Myeloid & Myeloid & IA & Myeloid-IA\\\\\n",
       "\tS18T\\_ACCCTAGGAATT & 5260 & 22644 & S18T & 0.12493376 & 0 & P18 & C0\\_Myeloid & Myeloid & IA & Myeloid-IA\\\\\n",
       "\tS18T\\_GTTATCGCAGAA & 5003 & 21648 & S18T & 0.11049520 & 0 & P18 & C0\\_Myeloid & Myeloid & IA & Myeloid-IA\\\\\n",
       "\tS18T\\_GAAGCTAACTAC & 4373 & 19688 & S18T & 0.08355343 & 0 & P18 & C0\\_Myeloid & Myeloid & IA & Myeloid-IA\\\\\n",
       "\tS18T\\_CGGCCCCTGTCA & 4283 & 16887 & S18T & 0.12299402 & 0 & P18 & C0\\_Myeloid & Myeloid & IA & Myeloid-IA\\\\\n",
       "\\end{tabular}\n"
      ],
      "text/markdown": [
       "\n",
       "A data.frame: 6 × 10\n",
       "\n",
       "| <!--/--> | nGene &lt;dbl&gt; | nUMI &lt;dbl&gt; | orig.ident &lt;chr&gt; | percent.mito &lt;dbl&gt; | res.0.6 &lt;chr&gt; | samples &lt;chr&gt; | new_ident &lt;chr&gt; | cell_type &lt;chr&gt; | stage &lt;chr&gt; | combine &lt;chr&gt; |\n",
       "|---|---|---|---|---|---|---|---|---|---|---|\n",
       "| S18T_ACTAGTTTAATC | 5592 | 35946 | S18T | 0.14805542 | 0 | P18 | C0_Myeloid | Myeloid | IA | Myeloid-IA |\n",
       "| S18T_CCACTTCCTGGC | 5410 | 28104 | S18T | 0.11446769 | 0 | P18 | C0_Myeloid | Myeloid | IA | Myeloid-IA |\n",
       "| S18T_ACCCTAGGAATT | 5260 | 22644 | S18T | 0.12493376 | 0 | P18 | C0_Myeloid | Myeloid | IA | Myeloid-IA |\n",
       "| S18T_GTTATCGCAGAA | 5003 | 21648 | S18T | 0.11049520 | 0 | P18 | C0_Myeloid | Myeloid | IA | Myeloid-IA |\n",
       "| S18T_GAAGCTAACTAC | 4373 | 19688 | S18T | 0.08355343 | 0 | P18 | C0_Myeloid | Myeloid | IA | Myeloid-IA |\n",
       "| S18T_CGGCCCCTGTCA | 4283 | 16887 | S18T | 0.12299402 | 0 | P18 | C0_Myeloid | Myeloid | IA | Myeloid-IA |\n",
       "\n"
      ],
      "text/plain": [
       "                  nGene nUMI  orig.ident percent.mito res.0.6 samples\n",
       "S18T_ACTAGTTTAATC 5592  35946 S18T       0.14805542   0       P18    \n",
       "S18T_CCACTTCCTGGC 5410  28104 S18T       0.11446769   0       P18    \n",
       "S18T_ACCCTAGGAATT 5260  22644 S18T       0.12493376   0       P18    \n",
       "S18T_GTTATCGCAGAA 5003  21648 S18T       0.11049520   0       P18    \n",
       "S18T_GAAGCTAACTAC 4373  19688 S18T       0.08355343   0       P18    \n",
       "S18T_CGGCCCCTGTCA 4283  16887 S18T       0.12299402   0       P18    \n",
       "                  new_ident  cell_type stage combine   \n",
       "S18T_ACTAGTTTAATC C0_Myeloid Myeloid   IA    Myeloid-IA\n",
       "S18T_CCACTTCCTGGC C0_Myeloid Myeloid   IA    Myeloid-IA\n",
       "S18T_ACCCTAGGAATT C0_Myeloid Myeloid   IA    Myeloid-IA\n",
       "S18T_GTTATCGCAGAA C0_Myeloid Myeloid   IA    Myeloid-IA\n",
       "S18T_GAAGCTAACTAC C0_Myeloid Myeloid   IA    Myeloid-IA\n",
       "S18T_CGGCCCCTGTCA C0_Myeloid Myeloid   IA    Myeloid-IA"
      ]
     },
     "metadata": {},
     "output_type": "display_data"
    }
   ],
   "source": [
    "head(rds.LUAD_wt@meta.data)"
   ]
  },
  {
   "cell_type": "code",
   "execution_count": 157,
   "metadata": {},
   "outputs": [
    {
     "data": {
      "image/png": "[encoded data removed]",
      "text/plain": [
       "plot without title"
      ]
     },
     "metadata": {
      "image/png": {
       "height": 420,
       "width": 420
      }
     },
     "output_type": "display_data"
    }
   ],
   "source": [
    "DotPlot(rds.LUAD_wt, genes.plot = genes.plot, plot.legend = T, x.lab.rot = T,cols.use = c('blue','red'))"
   ]
  },
  {
   "cell_type": "code",
   "execution_count": 158,
   "metadata": {},
   "outputs": [],
   "source": [
    "for (type in types){\n",
    "    genes.given = genes[genes$gene_biotype == type,]$gene_symbol\n",
    "    genes.plot = intersect(genes.given, genes.all)\n",
    "    pdf_name = str_glue('{type}_LUAD_exp.pdf')\n",
    "    pdf(pdf_name, height=8, width=(length(genes.plot)/2 + 5))\n",
    "    DotPlot(rds.LUAD_wt, genes.plot = genes.plot, plot.legend = T, x.lab.rot = T)\n",
    "    dev.off()    \n",
    "}"
   ]
  },
  {
   "cell_type": "code",
   "execution_count": null,
   "metadata": {},
   "outputs": [],
   "source": []
  },
  {
   "cell_type": "code",
   "execution_count": null,
   "metadata": {},
   "outputs": [],
   "source": []
  }
 ],
 "metadata": {
  "kernelspec": {
   "display_name": "seurat2",
   "language": "R",
   "name": "seurat2"
  },
  "language_info": {
   "codemirror_mode": "r",
   "file_extension": ".r",
   "mimetype": "text/x-r-source",
   "name": "R",
   "pygments_lexer": "r",
   "version": "3.5.1"
  }
 },
 "nbformat": 4,
 "nbformat_minor": 4
}
